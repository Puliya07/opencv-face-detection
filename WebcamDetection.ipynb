{
 "cells": [
  {
   "cell_type": "code",
   "execution_count": 1,
   "id": "1df8c9c8",
   "metadata": {},
   "outputs": [],
   "source": [
    "import cv2\n",
    "import os"
   ]
  },
  {
   "cell_type": "code",
   "execution_count": 2,
   "id": "971bc6ca",
   "metadata": {},
   "outputs": [],
   "source": [
    "face_cascade_path = 'haarcascade_frontalface_default.xml'"
   ]
  },
  {
   "cell_type": "code",
   "execution_count": 4,
   "id": "1da27fef",
   "metadata": {},
   "outputs": [],
   "source": [
    "if not os.path.exists(face_cascade_path):\n",
    "    print(f\"Error: Haar Cascade XML file not found at {face_cascade_path}.\")\n",
    "    exit()\n",
    "\n",
    "face_cascade = cv2.CascadeClassifier(face_cascade_path)"
   ]
  },
  {
   "cell_type": "code",
   "execution_count": null,
   "id": "12954c4d",
   "metadata": {},
   "outputs": [],
   "source": [
    "cap = cv2.VideoCapture(0) # 0 is the default webcamera\n",
    "\n",
    "if not cap.isOpened():\n",
    "    print(\"Error: Could not open WebCam\")\n",
    "    exit()\n",
    "\n",
    "#Set camera resolution\n",
    "cap.set(cv2.CAP_PROP_FRAME_WIDTH, 640)\n",
    "cap.set(cv2.CAP_PROP_FRAME_HEIGHT, 480)\n",
    "\n",
    "print(\"Starting webcam face detection...\")\n",
    "print(\"Press 'q' to quit, 's' to save current frame\")\n",
    "\n",
    "frame_count = 0\n",
    "\n",
    "while True:\n",
    "    # Read frame from webcam\n",
    "    ret, frame = cap.read()\n",
    "\n",
    "    if not ret:\n",
    "        print(\"Error: Failed to grab frame from webcam\")\n",
    "        break\n",
    "\n",
    "    gray_frame = cv2.cvtColor(frame, cv2.COLOR_BGR2GRAY)\n",
    "\n",
    "    faces = face_cascade.detectMultiScale(\n",
    "        gray_frame,\n",
    "        scaleFactor=1.1,\n",
    "        minNeighbors=5,\n",
    "        minSize = (30,30)\n",
    "    )\n",
    "\n",
    "    #Draw boundary box around detected faces\n",
    "    for (x, y, w, h) in faces:\n",
    "        cv2.rectangle(frame, (x,y), (x+w, y+h), (255,0,0), 2)\n",
    "\n",
    "        \n",
    "\n"
   ]
  }
 ],
 "metadata": {
  "kernelspec": {
   "display_name": "base",
   "language": "python",
   "name": "python3"
  },
  "language_info": {
   "codemirror_mode": {
    "name": "ipython",
    "version": 3
   },
   "file_extension": ".py",
   "mimetype": "text/x-python",
   "name": "python",
   "nbconvert_exporter": "python",
   "pygments_lexer": "ipython3",
   "version": "3.13.5"
  }
 },
 "nbformat": 4,
 "nbformat_minor": 5
}
